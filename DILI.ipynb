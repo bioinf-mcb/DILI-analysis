{
 "cells": [
  {
   "cell_type": "code",
   "execution_count": 148,
   "metadata": {},
   "outputs": [],
   "source": [
    "import pandas as pd\n",
    "import numpy as np\n",
    "from collections import Counter\n",
    "from pprint import pprint\n",
    "from sklearn.model_selection import train_test_split"
   ]
  },
  {
   "cell_type": "code",
   "execution_count": 53,
   "metadata": {},
   "outputs": [],
   "source": [
    "dili_df = pd.read_csv(\"D:\\Datasets\\CAMDA-DILI\\DILI.csv\", delimiter=',')\n",
    "dili_df = dili_df[~pd.isna(dili_df['MOL_FORMULA'])]"
   ]
  },
  {
   "cell_type": "code",
   "execution_count": 54,
   "metadata": {},
   "outputs": [
    {
     "data": {
      "text/plain": [
       "Index(['LTKB_ID', 'COMPOUND_NAME', 'MOL_FORMULA', 'SIMILARITY', 'CASN',\n",
       "       'DRUGBANK_ID', 'ATC_CODE', 'VERIFIED_DILI_CONCERN', 'DILI_CONCERN',\n",
       "       'LABEL_SECTION', 'SEVERITY_CLASS', 'DILI_DESCRIPTION',\n",
       "       'GREENE_ANNOTATION', 'XU_ANNOTATION', 'OBRIEN_ANNOTATION',\n",
       "       'SUZUKI_ANNOTATION', 'GUO_ANNOTATION', 'SAKATIS_ANNOTATION',\n",
       "       'VER_DISP'],\n",
       "      dtype='object')"
      ]
     },
     "execution_count": 54,
     "metadata": {},
     "output_type": "execute_result"
    }
   ],
   "source": [
    "dili_df.columns"
   ]
  },
  {
   "cell_type": "markdown",
   "metadata": {},
   "source": [
    "## Check for formulas duplicates"
   ]
  },
  {
   "cell_type": "code",
   "execution_count": 55,
   "metadata": {},
   "outputs": [
    {
     "name": "stdout",
     "output_type": "stream",
     "text": [
      "All formulas count: 380\n",
      "Unique formulas count: 370\n"
     ]
    }
   ],
   "source": [
    "print(f\"All formulas count: {len(dili_df)}\")\n",
    "print(f\"Unique formulas count: {len(set(dili_df['MOL_FORMULA']))}\")"
   ]
  },
  {
   "cell_type": "code",
   "execution_count": 56,
   "metadata": {},
   "outputs": [
    {
     "name": "stdout",
     "output_type": "stream",
     "text": [
      "[('C16 H19 Cl N2', 2),\n",
      " ('C7 H15 Cl2 N2 O2 P', 2),\n",
      " ('C22 H24 N2 O8', 2),\n",
      " ('C18 H21 Cl N2', 2),\n",
      " ('C27 H29 N O11', 2),\n",
      " ('C26 H28 Cl N O', 2),\n",
      " ('C20 H28 O2', 2),\n",
      " ('C11 H9 I3 N2 O4', 2),\n",
      " ('C7 H7 N O3', 2),\n",
      " ('C12 H16 O2', 2)]\n"
     ]
    }
   ],
   "source": [
    "duplicates = [(item, count) for item, count in Counter(dili_df['MOL_FORMULA']).most_common(20) if count > 1]\n",
    "pprint(duplicates)"
   ]
  },
  {
   "cell_type": "markdown",
   "metadata": {},
   "source": [
    "We've found a few formula duplicates. That is a bit weird, but is there any difference in DILI concern?"
   ]
  },
  {
   "cell_type": "code",
   "execution_count": 57,
   "metadata": {},
   "outputs": [
    {
     "name": "stdout",
     "output_type": "stream",
     "text": [
      "C18 H21 Cl N2\n",
      "chlorcyclizine: No-DILI-Concern\n",
      "clomacran: Most-DILI-Concern\n",
      "C20 H28 O2\n",
      "isotretinoin: Most-DILI-Concern\n",
      "tretinoin: Less-DILI-Concern\n",
      "C7 H7 N O3\n",
      "mesalazine: Less-DILI-Concern\n",
      "aminosalicylic acid: Most-DILI-Concern\n",
      "C12 H16 O2\n",
      "sacrosidase: Less-DILI-Concern\n",
      "ibufenac: Most-DILI-Concern\n"
     ]
    }
   ],
   "source": [
    "errors = []\n",
    "for formula, _ in duplicates:\n",
    "    results = dili_df[dili_df['MOL_FORMULA']==formula]\n",
    "    if results['DILI_CONCERN'].values[0]!=results['DILI_CONCERN'].values[1]:\n",
    "        print(formula)\n",
    "        print(f\"{results['COMPOUND_NAME'].values[0]}: {results['DILI_CONCERN'].values[0]}\")\n",
    "        print(f\"{results['COMPOUND_NAME'].values[1]}: {results['DILI_CONCERN'].values[1]}\")\n",
    "        errors.append(formula)"
   ]
  },
  {
   "cell_type": "markdown",
   "metadata": {},
   "source": [
    "This is quite worrying, but let's just drop the data and pretend we didn't see that."
   ]
  },
  {
   "cell_type": "code",
   "execution_count": 58,
   "metadata": {},
   "outputs": [
    {
     "name": "stdout",
     "output_type": "stream",
     "text": [
      "All formulas count: 372\n",
      "Unique formulas count: 366\n"
     ]
    }
   ],
   "source": [
    "for formula in errors:\n",
    "    dili_df = dili_df[dili_df['MOL_FORMULA']!=formula]\n",
    "print(f\"All formulas count: {len(dili_df)}\")\n",
    "print(f\"Unique formulas count: {len(set(dili_df['MOL_FORMULA']))}\")"
   ]
  },
  {
   "cell_type": "markdown",
   "metadata": {},
   "source": [
    "## Check for number of different tokens in the formulas"
   ]
  },
  {
   "cell_type": "code",
   "execution_count": 99,
   "metadata": {},
   "outputs": [],
   "source": [
    "flattened = dili_df['MOL_FORMULA'].values.flatten()\n",
    "joined = ' '.join(flattened)\n",
    "joined = joined.replace('.', '')\n",
    "for i in range(10):\n",
    "    joined = joined.replace(str(i), '')\n",
    "    \n",
    "counted = Counter(joined.split(' '))"
   ]
  },
  {
   "cell_type": "code",
   "execution_count": 100,
   "metadata": {},
   "outputs": [
    {
     "data": {
      "text/plain": [
       "Counter({'C': 374,\n",
       "         'H': 381,\n",
       "         'N': 315,\n",
       "         'S': 86,\n",
       "         'O': 340,\n",
       "         'Cl': 61,\n",
       "         'P': 5,\n",
       "         'F': 35,\n",
       "         '': 41,\n",
       "         'I': 4,\n",
       "         'Pt': 2,\n",
       "         'Na': 6,\n",
       "         'Br': 6,\n",
       "         'Al': 1,\n",
       "         'Cu': 1,\n",
       "         'La': 1,\n",
       "         'Gd': 1,\n",
       "         'Fe': 2,\n",
       "         'Ca': 1,\n",
       "         'Si': 1})"
      ]
     },
     "execution_count": 100,
     "metadata": {},
     "output_type": "execute_result"
    }
   ],
   "source": [
    "counted"
   ]
  },
  {
   "cell_type": "code",
   "execution_count": 101,
   "metadata": {},
   "outputs": [
    {
     "name": "stdout",
     "output_type": "stream",
     "text": [
      "['H', 'C', 'O', 'N', 'S', 'Cl', 'F']\n"
     ]
    }
   ],
   "source": [
    "tokens = []\n",
    "for token, count in counted.most_common():\n",
    "    if count>10 and token!='':\n",
    "        tokens.append(token)\n",
    "print(tokens)"
   ]
  },
  {
   "cell_type": "markdown",
   "metadata": {},
   "source": [
    "## A naive formula-based classifier"
   ]
  },
  {
   "cell_type": "markdown",
   "metadata": {},
   "source": [
    "### Preprocessing"
   ]
  },
  {
   "cell_type": "code",
   "execution_count": 119,
   "metadata": {},
   "outputs": [
    {
     "data": {
      "text/plain": [
       "[29, 27, 11, 1, 0, 0, 0]"
      ]
     },
     "execution_count": 119,
     "metadata": {},
     "output_type": "execute_result"
    }
   ],
   "source": [
    "import re\n",
    "def parse_formula(formula):\n",
    "    res = []\n",
    "    for token in tokens:\n",
    "        match = re.search(f\"({token}\\d+)\", formula)\n",
    "        try:\n",
    "            count = match.group(1)[len(token):]\n",
    "            res.append(int(count))\n",
    "        except AttributeError:\n",
    "            if token in formula:\n",
    "                res.append(1)\n",
    "            else:\n",
    "                res.append(0)\n",
    "    return res\n",
    "\n",
    "parse_formula(\"C27 H29 N O11\")"
   ]
  },
  {
   "cell_type": "code",
   "execution_count": 131,
   "metadata": {},
   "outputs": [],
   "source": [
    "X = []\n",
    "for formula in dili_df['MOL_FORMULA'].values:\n",
    "    X.append(parse_formula(formula))\n",
    "X = np.array(X)"
   ]
  },
  {
   "cell_type": "code",
   "execution_count": 270,
   "metadata": {},
   "outputs": [],
   "source": [
    "y = []\n",
    "for concern in dili_df['VERIFIED_DILI_CONCERN'].values:\n",
    "    if concern=='vMost-DILI-Concern':\n",
    "        y.append(1)\n",
    "    else:\n",
    "        y.append(0)\n",
    "y = np.array(y)"
   ]
  },
  {
   "cell_type": "code",
   "execution_count": 161,
   "metadata": {},
   "outputs": [],
   "source": [
    "X_train, X_test, y_train, y_test = train_test_split(X, y, test_size=0.3)"
   ]
  },
  {
   "cell_type": "code",
   "execution_count": 162,
   "metadata": {},
   "outputs": [
    {
     "name": "stdout",
     "output_type": "stream",
     "text": [
      "260 112\n"
     ]
    }
   ],
   "source": [
    "print(len(X_train), len(X_test))"
   ]
  },
  {
   "cell_type": "markdown",
   "metadata": {},
   "source": [
    "### Modelling"
   ]
  },
  {
   "cell_type": "code",
   "execution_count": 204,
   "metadata": {},
   "outputs": [
    {
     "data": {
      "text/plain": [
       "RandomForestClassifier(bootstrap=True, ccp_alpha=0.0, class_weight=None,\n",
       "                       criterion='gini', max_depth=None, max_features='auto',\n",
       "                       max_leaf_nodes=None, max_samples=None,\n",
       "                       min_impurity_decrease=0.0, min_impurity_split=None,\n",
       "                       min_samples_leaf=1, min_samples_split=2,\n",
       "                       min_weight_fraction_leaf=0.0, n_estimators=300,\n",
       "                       n_jobs=None, oob_score=False, random_state=None,\n",
       "                       verbose=0, warm_start=False)"
      ]
     },
     "execution_count": 204,
     "metadata": {},
     "output_type": "execute_result"
    }
   ],
   "source": [
    "from sklearn.ensemble import RandomForestClassifier, RandomForestRegressor\n",
    "from sklearn.metrics import confusion_matrix, roc_curve, auc"
   ]
  },
  {
   "cell_type": "code",
   "execution_count": 269,
   "metadata": {},
   "outputs": [
    {
     "name": "stdout",
     "output_type": "stream",
     "text": [
      "0.6607211354046797\n",
      "0.9576212203232543\n"
     ]
    }
   ],
   "source": [
    "clf = RandomForestClassifier(n_estimators=10, max_depth=7)\n",
    "clf.fit(X_train, y_train)\n",
    "\n",
    "y_pred = clf.predict_proba(X_test)[:, 1]\n",
    "fpr, tpr, thresholds = roc_curve(y_test, y_pred)\n",
    "print(auc(fpr, tpr))\n",
    "\n",
    "y_pred = clf.predict_proba(X_train)[:, 1]\n",
    "fpr, tpr, thresholds = roc_curve(y_train, y_pred)\n",
    "print(auc(fpr, tpr))"
   ]
  }
 ],
 "metadata": {
  "kernelspec": {
   "display_name": "Python 3",
   "language": "python",
   "name": "python3"
  },
  "language_info": {
   "codemirror_mode": {
    "name": "ipython",
    "version": 3
   },
   "file_extension": ".py",
   "mimetype": "text/x-python",
   "name": "python",
   "nbconvert_exporter": "python",
   "pygments_lexer": "ipython3",
   "version": "3.7.6"
  }
 },
 "nbformat": 4,
 "nbformat_minor": 4
}
